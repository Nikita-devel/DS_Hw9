{
  "nbformat": 4,
  "nbformat_minor": 0,
  "metadata": {
    "colab": {
      "provenance": [],
      "authorship_tag": "ABX9TyOQcTpJTFwAkPrZcHhMH7Ia",
      "include_colab_link": true
    },
    "kernelspec": {
      "name": "python3",
      "display_name": "Python 3"
    },
    "language_info": {
      "name": "python"
    }
  },
  "cells": [
    {
      "cell_type": "markdown",
      "metadata": {
        "id": "view-in-github",
        "colab_type": "text"
      },
      "source": [
        "<a href=\"https://colab.research.google.com/github/Nikita-devel/DS_Hw9/blob/main/DS_Hw9.ipynb\" target=\"_parent\"><img src=\"https://colab.research.google.com/assets/colab-badge.svg\" alt=\"Open In Colab\"/></a>"
      ]
    },
    {
      "cell_type": "code",
      "execution_count": 5,
      "metadata": {
        "colab": {
          "base_uri": "https://localhost:8080/"
        },
        "id": "vc5NNW9kBDqk",
        "outputId": "2bd2664a-ba94-47c0-d1a0-b5507027a6c7"
      },
      "outputs": [
        {
          "output_type": "stream",
          "name": "stdout",
          "text": [
            "Epoch 1/15\n",
            "750/750 [==============================] - 4s 5ms/step - loss: 0.5990 - accuracy: 0.7875 - val_loss: 0.4248 - val_accuracy: 0.8463\n",
            "Epoch 2/15\n",
            "750/750 [==============================] - 5s 6ms/step - loss: 0.4329 - accuracy: 0.8418 - val_loss: 0.3986 - val_accuracy: 0.8547\n",
            "Epoch 3/15\n",
            "750/750 [==============================] - 3s 4ms/step - loss: 0.3994 - accuracy: 0.8532 - val_loss: 0.3657 - val_accuracy: 0.8654\n",
            "Epoch 4/15\n",
            "750/750 [==============================] - 3s 5ms/step - loss: 0.3743 - accuracy: 0.8609 - val_loss: 0.3530 - val_accuracy: 0.8681\n",
            "Epoch 5/15\n",
            "750/750 [==============================] - 4s 5ms/step - loss: 0.3561 - accuracy: 0.8687 - val_loss: 0.3359 - val_accuracy: 0.8775\n",
            "Epoch 6/15\n",
            "750/750 [==============================] - 4s 5ms/step - loss: 0.3477 - accuracy: 0.8709 - val_loss: 0.3334 - val_accuracy: 0.8796\n",
            "Epoch 7/15\n",
            "750/750 [==============================] - 4s 5ms/step - loss: 0.3343 - accuracy: 0.8771 - val_loss: 0.3348 - val_accuracy: 0.8787\n",
            "Epoch 8/15\n",
            "750/750 [==============================] - 4s 5ms/step - loss: 0.3237 - accuracy: 0.8792 - val_loss: 0.3306 - val_accuracy: 0.8834\n",
            "Epoch 9/15\n",
            "750/750 [==============================] - 5s 6ms/step - loss: 0.3168 - accuracy: 0.8827 - val_loss: 0.3301 - val_accuracy: 0.8819\n",
            "Epoch 10/15\n",
            "750/750 [==============================] - 3s 5ms/step - loss: 0.3078 - accuracy: 0.8852 - val_loss: 0.3303 - val_accuracy: 0.8823\n",
            "Epoch 11/15\n",
            "750/750 [==============================] - 3s 4ms/step - loss: 0.3023 - accuracy: 0.8868 - val_loss: 0.3182 - val_accuracy: 0.8838\n",
            "Epoch 12/15\n",
            "750/750 [==============================] - 4s 6ms/step - loss: 0.2973 - accuracy: 0.8888 - val_loss: 0.3146 - val_accuracy: 0.8843\n",
            "Epoch 13/15\n",
            "750/750 [==============================] - 3s 5ms/step - loss: 0.2936 - accuracy: 0.8900 - val_loss: 0.3293 - val_accuracy: 0.8804\n",
            "Epoch 14/15\n",
            "750/750 [==============================] - 3s 4ms/step - loss: 0.2834 - accuracy: 0.8939 - val_loss: 0.3145 - val_accuracy: 0.8870\n",
            "Epoch 15/15\n",
            "750/750 [==============================] - 4s 5ms/step - loss: 0.2825 - accuracy: 0.8929 - val_loss: 0.3164 - val_accuracy: 0.8867\n",
            "313/313 [==============================] - 1s 2ms/step - loss: 0.3462 - accuracy: 0.8827\n",
            "Test accuracy: 0.8827000260353088\n"
          ]
        }
      ],
      "source": [
        "import tensorflow as tf\n",
        "from tensorflow.keras import layers, models\n",
        "\n",
        "# Завантажимо дані\n",
        "(train_images, train_labels), (test_images, test_labels) = tf.keras.datasets.fashion_mnist.load_data()\n",
        "\n",
        "# Нормалізація значень пікселів до діапазону [0, 1]\n",
        "train_images, test_images = train_images / 255.0, test_images / 255.0\n",
        "\n",
        "# Побудова моделі\n",
        "model = models.Sequential()\n",
        "model.add(layers.Flatten(input_shape=(28, 28)))  # Вирівнювач\n",
        "model.add(layers.Dense(128, activation='relu'))  # Повнозв'язний шар з ReLU активацією\n",
        "model.add(layers.Dropout(0.3))  # Dropout для регуляризації\n",
        "model.add(layers.Dense(64, activation='relu'))\n",
        "model.add(layers.Dense(10, activation='softmax'))  # Вихідний шар з Softmax активацією для класифікації\n",
        "\n",
        "# Компіляція моделі\n",
        "model.compile(optimizer='adam',\n",
        "              loss='sparse_categorical_crossentropy',\n",
        "              metrics=['accuracy'])\n",
        "\n",
        "# Навчання моделі\n",
        "history = model.fit(train_images, train_labels, epochs=15, batch_size=64, validation_split=0.2)\n",
        "\n",
        "# Оцінка точності на тестовому наборі\n",
        "test_loss, test_acc = model.evaluate(test_images, test_labels)\n",
        "print(f\"Test accuracy: {test_acc}\")\n"
      ]
    }
  ]
}